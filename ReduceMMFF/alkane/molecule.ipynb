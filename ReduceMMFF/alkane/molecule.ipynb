{
 "cells": [
  {
   "cell_type": "code",
   "execution_count": 1,
   "metadata": {},
   "outputs": [
    {
     "name": "stderr",
     "output_type": "stream",
     "text": [
      "/home/runxuanj/anaconda3/envs/my-rdkit-env/lib/python3.7/site-packages/torch/cuda/__init__.py:52: UserWarning: CUDA initialization: Found no NVIDIA driver on your system. Please check that you have an NVIDIA GPU and installed a driver from http://www.nvidia.com/Download/index.aspx (Triggered internally at  /opt/conda/conda-bld/pytorch_1607370156314/work/c10/cuda/CUDAFunctions.cpp:100.)\n",
      "  return torch._C._cuda_getDeviceCount() > 0\n"
     ]
    }
   ],
   "source": [
    "from conformer_rl.analysis.analysis import *\n",
    "from conformer_rl.molecule_generation.molecules import test_alkane"
   ]
  },
  {
   "cell_type": "code",
   "execution_count": 3,
   "metadata": {},
   "outputs": [
    {
     "data": {
      "application/3dmoljs_load.v0": "<div id=\"3dmolviewer_1637648017087094\"  style=\"position: relative; width: 300px; height: 300px\">\n        <p id=\"3dmolwarning_1637648017087094\" style=\"background-color:#ffcccc;color:black\">You appear to be running in JupyterLab (or JavaScript failed to load for some other reason).  You need to install the 3dmol extension: <br>\n        <tt>jupyter labextension install jupyterlab_3dmol</tt></p>\n        </div>\n<script>\n\nvar loadScriptAsync = function(uri){\n  return new Promise((resolve, reject) => {\n    var tag = document.createElement('script');\n    tag.src = uri;\n    tag.async = true;\n    tag.onload = () => {\n      resolve();\n    };\n  var firstScriptTag = document.getElementsByTagName('script')[0];\n  firstScriptTag.parentNode.insertBefore(tag, firstScriptTag);\n});\n};\n\nif(typeof $3Dmolpromise === 'undefined') {\n$3Dmolpromise = null;\n  $3Dmolpromise = loadScriptAsync('https://3dmol.org/build/3Dmol.js');\n}\n\nvar viewer_1637648017087094 = null;\nvar warn = document.getElementById(\"3dmolwarning_1637648017087094\");\nif(warn) {\n    warn.parentNode.removeChild(warn);\n}\n$3Dmolpromise.then(function() {\nviewer_1637648017087094 = $3Dmol.createViewer($(\"#3dmolviewer_1637648017087094\"),{backgroundColor:\"white\"});\nviewer_1637648017087094.zoomTo();\n\tviewer_1637648017087094.addModel(\"\\n     RDKit          2D\\n\\n 47 46  0  0  0  0  0  0  0  0999 V2000\\n    0.0000    0.0000    0.0000 C   0  0  0  0  0  0  0  0  0  0  0  0\\n    1.5000    0.0000    0.0000 C   0  0  0  0  0  0  0  0  0  0  0  0\\n    3.0000    0.0000    0.0000 C   0  0  0  0  0  0  0  0  0  0  0  0\\n    4.5000   -0.0000    0.0000 C   0  0  0  0  0  0  0  0  0  0  0  0\\n    6.0000   -0.0000    0.0000 C   0  0  0  0  0  0  0  0  0  0  0  0\\n    1.5000   -1.5000    0.0000 C   0  0  0  0  0  0  0  0  0  0  0  0\\n    1.5000   -3.0000    0.0000 C   0  0  0  0  0  0  0  0  0  0  0  0\\n    1.5000   -4.5000    0.0000 C   0  0  0  0  0  0  0  0  0  0  0  0\\n    1.5000   -6.0000    0.0000 C   0  0  0  0  0  0  0  0  0  0  0  0\\n    1.5000   -7.5000    0.0000 C   0  0  0  0  0  0  0  0  0  0  0  0\\n    1.5000   -9.0000    0.0000 C   0  0  0  0  0  0  0  0  0  0  0  0\\n    1.5000  -10.5000    0.0000 C   0  0  0  0  0  0  0  0  0  0  0  0\\n    1.5000  -12.0000    0.0000 C   0  0  0  0  0  0  0  0  0  0  0  0\\n    0.0000   -6.0000    0.0000 C   0  0  0  0  0  0  0  0  0  0  0  0\\n   -1.5000   -6.0000    0.0000 C   0  0  0  0  0  0  0  0  0  0  0  0\\n   -1.5000    0.0000    0.0000 H   0  0  0  0  0  0  0  0  0  0  0  0\\n    0.0000    1.5000    0.0000 H   0  0  0  0  0  0  0  0  0  0  0  0\\n   -0.1080   -0.8791    0.0000 H   0  0  0  0  0  0  0  0  0  0  0  0\\n    1.5000    1.5000    0.0000 H   0  0  0  0  0  0  0  0  0  0  0  0\\n    3.0000    1.5000    0.0000 H   0  0  0  0  0  0  0  0  0  0  0  0\\n    3.1080   -0.8791    0.0000 H   0  0  0  0  0  0  0  0  0  0  0  0\\n    4.5000   -1.5000    0.0000 H   0  0  0  0  0  0  0  0  0  0  0  0\\n    4.5000    1.5000    0.0000 H   0  0  0  0  0  0  0  0  0  0  0  0\\n    7.5000   -0.0000    0.0000 H   0  0  0  0  0  0  0  0  0  0  0  0\\n    6.0000    1.5000    0.0000 H   0  0  0  0  0  0  0  0  0  0  0  0\\n    6.0000   -1.5000    0.0000 H   0  0  0  0  0  0  0  0  0  0  0  0\\n    2.3791   -1.6080    0.0000 H   0  0  0  0  0  0  0  0  0  0  0  0\\n    0.6209   -1.6080    0.0000 H   0  0  0  0  0  0  0  0  0  0  0  0\\n    0.0000   -3.0000    0.0000 H   0  0  0  0  0  0  0  0  0  0  0  0\\n    3.0000   -3.0000    0.0000 H   0  0  0  0  0  0  0  0  0  0  0  0\\n    3.0000   -4.5000    0.0000 H   0  0  0  0  0  0  0  0  0  0  0  0\\n    0.0112   -4.3172    0.0000 H   0  0  0  0  0  0  0  0  0  0  0  0\\n    3.0000   -6.0000    0.0000 H   0  0  0  0  0  0  0  0  0  0  0  0\\n    3.0000   -7.5000    0.0000 H   0  0  0  0  0  0  0  0  0  0  0  0\\n    0.6209   -7.6080    0.0000 H   0  0  0  0  0  0  0  0  0  0  0  0\\n    0.0000   -9.0000    0.0000 H   0  0  0  0  0  0  0  0  0  0  0  0\\n    3.0000   -9.0000    0.0000 H   0  0  0  0  0  0  0  0  0  0  0  0\\n    3.0000  -10.5000    0.0000 H   0  0  0  0  0  0  0  0  0  0  0  0\\n    0.0000  -10.5000    0.0000 H   0  0  0  0  0  0  0  0  0  0  0  0\\n    1.5000  -13.5000    0.0000 H   0  0  0  0  0  0  0  0  0  0  0  0\\n    0.0000  -12.0000    0.0000 H   0  0  0  0  0  0  0  0  0  0  0  0\\n    3.0000  -12.0000    0.0000 H   0  0  0  0  0  0  0  0  0  0  0  0\\n   -0.1080   -6.8791    0.0000 H   0  0  0  0  0  0  0  0  0  0  0  0\\n   -0.1828   -4.5112    0.0000 H   0  0  0  0  0  0  0  0  0  0  0  0\\n   -3.0000   -6.0000    0.0000 H   0  0  0  0  0  0  0  0  0  0  0  0\\n   -1.5000   -7.5000    0.0000 H   0  0  0  0  0  0  0  0  0  0  0  0\\n   -1.5000   -4.5000    0.0000 H   0  0  0  0  0  0  0  0  0  0  0  0\\n  1  2  1  0\\n  2  3  1  0\\n  3  4  1  0\\n  4  5  1  0\\n  2  6  1  0\\n  6  7  1  0\\n  7  8  1  0\\n  8  9  1  0\\n  9 10  1  0\\n 10 11  1  0\\n 11 12  1  0\\n 12 13  1  0\\n  9 14  1  0\\n 14 15  1  0\\n  1 16  1  0\\n  1 17  1  0\\n  1 18  1  0\\n  2 19  1  0\\n  3 20  1  0\\n  3 21  1  0\\n  4 22  1  0\\n  4 23  1  0\\n  5 24  1  0\\n  5 25  1  0\\n  5 26  1  0\\n  6 27  1  0\\n  6 28  1  0\\n  7 29  1  0\\n  7 30  1  0\\n  8 31  1  0\\n  8 32  1  0\\n  9 33  1  0\\n 10 34  1  0\\n 10 35  1  0\\n 11 36  1  0\\n 11 37  1  0\\n 12 38  1  0\\n 12 39  1  0\\n 13 40  1  0\\n 13 41  1  0\\n 13 42  1  0\\n 14 43  1  0\\n 14 44  1  0\\n 15 45  1  0\\n 15 46  1  0\\n 15 47  1  0\\nM  END\\n\",\"mol\");\n\tviewer_1637648017087094.setStyle({\"stick\": {}});\n\tviewer_1637648017087094.zoomTo();\nviewer_1637648017087094.render();\n});\n</script>",
      "text/html": [
       "<div id=\"3dmolviewer_1637648017087094\"  style=\"position: relative; width: 300px; height: 300px\">\n",
       "        <p id=\"3dmolwarning_1637648017087094\" style=\"background-color:#ffcccc;color:black\">You appear to be running in JupyterLab (or JavaScript failed to load for some other reason).  You need to install the 3dmol extension: <br>\n",
       "        <tt>jupyter labextension install jupyterlab_3dmol</tt></p>\n",
       "        </div>\n",
       "<script>\n",
       "\n",
       "var loadScriptAsync = function(uri){\n",
       "  return new Promise((resolve, reject) => {\n",
       "    var tag = document.createElement('script');\n",
       "    tag.src = uri;\n",
       "    tag.async = true;\n",
       "    tag.onload = () => {\n",
       "      resolve();\n",
       "    };\n",
       "  var firstScriptTag = document.getElementsByTagName('script')[0];\n",
       "  firstScriptTag.parentNode.insertBefore(tag, firstScriptTag);\n",
       "});\n",
       "};\n",
       "\n",
       "if(typeof $3Dmolpromise === 'undefined') {\n",
       "$3Dmolpromise = null;\n",
       "  $3Dmolpromise = loadScriptAsync('https://3dmol.org/build/3Dmol.js');\n",
       "}\n",
       "\n",
       "var viewer_1637648017087094 = null;\n",
       "var warn = document.getElementById(\"3dmolwarning_1637648017087094\");\n",
       "if(warn) {\n",
       "    warn.parentNode.removeChild(warn);\n",
       "}\n",
       "$3Dmolpromise.then(function() {\n",
       "viewer_1637648017087094 = $3Dmol.createViewer($(\"#3dmolviewer_1637648017087094\"),{backgroundColor:\"white\"});\n",
       "viewer_1637648017087094.zoomTo();\n",
       "\tviewer_1637648017087094.addModel(\"\\n     RDKit          2D\\n\\n 47 46  0  0  0  0  0  0  0  0999 V2000\\n    0.0000    0.0000    0.0000 C   0  0  0  0  0  0  0  0  0  0  0  0\\n    1.5000    0.0000    0.0000 C   0  0  0  0  0  0  0  0  0  0  0  0\\n    3.0000    0.0000    0.0000 C   0  0  0  0  0  0  0  0  0  0  0  0\\n    4.5000   -0.0000    0.0000 C   0  0  0  0  0  0  0  0  0  0  0  0\\n    6.0000   -0.0000    0.0000 C   0  0  0  0  0  0  0  0  0  0  0  0\\n    1.5000   -1.5000    0.0000 C   0  0  0  0  0  0  0  0  0  0  0  0\\n    1.5000   -3.0000    0.0000 C   0  0  0  0  0  0  0  0  0  0  0  0\\n    1.5000   -4.5000    0.0000 C   0  0  0  0  0  0  0  0  0  0  0  0\\n    1.5000   -6.0000    0.0000 C   0  0  0  0  0  0  0  0  0  0  0  0\\n    1.5000   -7.5000    0.0000 C   0  0  0  0  0  0  0  0  0  0  0  0\\n    1.5000   -9.0000    0.0000 C   0  0  0  0  0  0  0  0  0  0  0  0\\n    1.5000  -10.5000    0.0000 C   0  0  0  0  0  0  0  0  0  0  0  0\\n    1.5000  -12.0000    0.0000 C   0  0  0  0  0  0  0  0  0  0  0  0\\n    0.0000   -6.0000    0.0000 C   0  0  0  0  0  0  0  0  0  0  0  0\\n   -1.5000   -6.0000    0.0000 C   0  0  0  0  0  0  0  0  0  0  0  0\\n   -1.5000    0.0000    0.0000 H   0  0  0  0  0  0  0  0  0  0  0  0\\n    0.0000    1.5000    0.0000 H   0  0  0  0  0  0  0  0  0  0  0  0\\n   -0.1080   -0.8791    0.0000 H   0  0  0  0  0  0  0  0  0  0  0  0\\n    1.5000    1.5000    0.0000 H   0  0  0  0  0  0  0  0  0  0  0  0\\n    3.0000    1.5000    0.0000 H   0  0  0  0  0  0  0  0  0  0  0  0\\n    3.1080   -0.8791    0.0000 H   0  0  0  0  0  0  0  0  0  0  0  0\\n    4.5000   -1.5000    0.0000 H   0  0  0  0  0  0  0  0  0  0  0  0\\n    4.5000    1.5000    0.0000 H   0  0  0  0  0  0  0  0  0  0  0  0\\n    7.5000   -0.0000    0.0000 H   0  0  0  0  0  0  0  0  0  0  0  0\\n    6.0000    1.5000    0.0000 H   0  0  0  0  0  0  0  0  0  0  0  0\\n    6.0000   -1.5000    0.0000 H   0  0  0  0  0  0  0  0  0  0  0  0\\n    2.3791   -1.6080    0.0000 H   0  0  0  0  0  0  0  0  0  0  0  0\\n    0.6209   -1.6080    0.0000 H   0  0  0  0  0  0  0  0  0  0  0  0\\n    0.0000   -3.0000    0.0000 H   0  0  0  0  0  0  0  0  0  0  0  0\\n    3.0000   -3.0000    0.0000 H   0  0  0  0  0  0  0  0  0  0  0  0\\n    3.0000   -4.5000    0.0000 H   0  0  0  0  0  0  0  0  0  0  0  0\\n    0.0112   -4.3172    0.0000 H   0  0  0  0  0  0  0  0  0  0  0  0\\n    3.0000   -6.0000    0.0000 H   0  0  0  0  0  0  0  0  0  0  0  0\\n    3.0000   -7.5000    0.0000 H   0  0  0  0  0  0  0  0  0  0  0  0\\n    0.6209   -7.6080    0.0000 H   0  0  0  0  0  0  0  0  0  0  0  0\\n    0.0000   -9.0000    0.0000 H   0  0  0  0  0  0  0  0  0  0  0  0\\n    3.0000   -9.0000    0.0000 H   0  0  0  0  0  0  0  0  0  0  0  0\\n    3.0000  -10.5000    0.0000 H   0  0  0  0  0  0  0  0  0  0  0  0\\n    0.0000  -10.5000    0.0000 H   0  0  0  0  0  0  0  0  0  0  0  0\\n    1.5000  -13.5000    0.0000 H   0  0  0  0  0  0  0  0  0  0  0  0\\n    0.0000  -12.0000    0.0000 H   0  0  0  0  0  0  0  0  0  0  0  0\\n    3.0000  -12.0000    0.0000 H   0  0  0  0  0  0  0  0  0  0  0  0\\n   -0.1080   -6.8791    0.0000 H   0  0  0  0  0  0  0  0  0  0  0  0\\n   -0.1828   -4.5112    0.0000 H   0  0  0  0  0  0  0  0  0  0  0  0\\n   -3.0000   -6.0000    0.0000 H   0  0  0  0  0  0  0  0  0  0  0  0\\n   -1.5000   -7.5000    0.0000 H   0  0  0  0  0  0  0  0  0  0  0  0\\n   -1.5000   -4.5000    0.0000 H   0  0  0  0  0  0  0  0  0  0  0  0\\n  1  2  1  0\\n  2  3  1  0\\n  3  4  1  0\\n  4  5  1  0\\n  2  6  1  0\\n  6  7  1  0\\n  7  8  1  0\\n  8  9  1  0\\n  9 10  1  0\\n 10 11  1  0\\n 11 12  1  0\\n 12 13  1  0\\n  9 14  1  0\\n 14 15  1  0\\n  1 16  1  0\\n  1 17  1  0\\n  1 18  1  0\\n  2 19  1  0\\n  3 20  1  0\\n  3 21  1  0\\n  4 22  1  0\\n  4 23  1  0\\n  5 24  1  0\\n  5 25  1  0\\n  5 26  1  0\\n  6 27  1  0\\n  6 28  1  0\\n  7 29  1  0\\n  7 30  1  0\\n  8 31  1  0\\n  8 32  1  0\\n  9 33  1  0\\n 10 34  1  0\\n 10 35  1  0\\n 11 36  1  0\\n 11 37  1  0\\n 12 38  1  0\\n 12 39  1  0\\n 13 40  1  0\\n 13 41  1  0\\n 13 42  1  0\\n 14 43  1  0\\n 14 44  1  0\\n 15 45  1  0\\n 15 46  1  0\\n 15 47  1  0\\nM  END\\n\",\"mol\");\n",
       "\tviewer_1637648017087094.setStyle({\"stick\": {}});\n",
       "\tviewer_1637648017087094.zoomTo();\n",
       "viewer_1637648017087094.render();\n",
       "});\n",
       "</script>"
      ]
     },
     "metadata": {},
     "output_type": "display_data"
    },
    {
     "data": {
      "text/plain": [
       "<py3Dmol.view at 0x2aed0953f350>"
      ]
     },
     "execution_count": 3,
     "metadata": {},
     "output_type": "execute_result"
    }
   ],
   "source": [
    "config = test_alkane()\n",
    "drawConformer(config.mol)"
   ]
  },
  {
   "cell_type": "code",
   "execution_count": 11,
   "metadata": {},
   "outputs": [
    {
     "name": "stdout",
     "output_type": "stream",
     "text": [
      "1\n"
     ]
    },
    {
     "data": {
      "application/3dmoljs_load.v0": "<div id=\"3dmolviewer_16376483281689043\"  style=\"position: relative; width: 300px; height: 300px\">\n        <p id=\"3dmolwarning_16376483281689043\" style=\"background-color:#ffcccc;color:black\">You appear to be running in JupyterLab (or JavaScript failed to load for some other reason).  You need to install the 3dmol extension: <br>\n        <tt>jupyter labextension install jupyterlab_3dmol</tt></p>\n        </div>\n<script>\n\nvar loadScriptAsync = function(uri){\n  return new Promise((resolve, reject) => {\n    var tag = document.createElement('script');\n    tag.src = uri;\n    tag.async = true;\n    tag.onload = () => {\n      resolve();\n    };\n  var firstScriptTag = document.getElementsByTagName('script')[0];\n  firstScriptTag.parentNode.insertBefore(tag, firstScriptTag);\n});\n};\n\nif(typeof $3Dmolpromise === 'undefined') {\n$3Dmolpromise = null;\n  $3Dmolpromise = loadScriptAsync('https://3dmol.org/build/3Dmol.js');\n}\n\nvar viewer_16376483281689043 = null;\nvar warn = document.getElementById(\"3dmolwarning_16376483281689043\");\nif(warn) {\n    warn.parentNode.removeChild(warn);\n}\n$3Dmolpromise.then(function() {\nviewer_16376483281689043 = $3Dmol.createViewer($(\"#3dmolviewer_16376483281689043\"),{backgroundColor:\"white\"});\nviewer_16376483281689043.zoomTo();\n\tviewer_16376483281689043.addModel(\"\\n     RDKit          3D\\n\\n 47 46  0  0  0  0  0  0  0  0999 V2000\\n   -3.2211   -0.3309    1.8581 C   0  0  0  0  0  0  0  0  0  0  0  0\\n   -2.7185    0.5488    0.7131 C   0  0  0  0  0  0  0  0  0  0  0  0\\n   -3.3689    0.2042   -0.6433 C   0  0  0  0  0  0  0  0  0  0  0  0\\n   -4.8868    0.4184   -0.6976 C   0  0  0  0  0  0  0  0  0  0  0  0\\n   -5.6843   -0.8544   -0.4511 C   0  0  0  0  0  0  0  0  0  0  0  0\\n   -1.1745    0.5315    0.6230 C   0  0  0  0  0  0  0  0  0  0  0  0\\n   -0.5516   -0.8376    0.3231 C   0  0  0  0  0  0  0  0  0  0  0  0\\n    0.9818   -0.8177    0.3658 C   0  0  0  0  0  0  0  0  0  0  0  0\\n    1.6971    0.0304   -0.7132 C   0  0  0  0  0  0  0  0  0  0  0  0\\n    3.2323    0.0110   -0.4912 C   0  0  0  0  0  0  0  0  0  0  0  0\\n    3.6846    0.6607    0.8214 C   0  0  0  0  0  0  0  0  0  0  0  0\\n    5.2093    0.7702    0.8869 C   0  0  0  0  0  0  0  0  0  0  0  0\\n    5.6667    1.4067    2.1898 C   0  0  0  0  0  0  0  0  0  0  0  0\\n    1.3996   -0.4770   -2.1466 C   0  0  0  0  0  0  0  0  0  0  0  0\\n    0.3042    0.3115   -2.8525 C   0  0  0  0  0  0  0  0  0  0  0  0\\n   -4.2645   -0.1015    2.0957 H   0  0  0  0  0  0  0  0  0  0  0  0\\n   -2.6407   -0.1555    2.7704 H   0  0  0  0  0  0  0  0  0  0  0  0\\n   -3.1554   -1.3951    1.6110 H   0  0  0  0  0  0  0  0  0  0  0  0\\n   -2.9960    1.5834    0.9584 H   0  0  0  0  0  0  0  0  0  0  0  0\\n   -2.9205    0.8614   -1.3999 H   0  0  0  0  0  0  0  0  0  0  0  0\\n   -3.1256   -0.8216   -0.9426 H   0  0  0  0  0  0  0  0  0  0  0  0\\n   -5.1978    1.2001    0.0043 H   0  0  0  0  0  0  0  0  0  0  0  0\\n   -5.1476    0.7782   -1.7008 H   0  0  0  0  0  0  0  0  0  0  0  0\\n   -5.4295   -1.6229   -1.1882 H   0  0  0  0  0  0  0  0  0  0  0  0\\n   -5.5052   -1.2656    0.5448 H   0  0  0  0  0  0  0  0  0  0  0  0\\n   -6.7558   -0.6480   -0.5397 H   0  0  0  0  0  0  0  0  0  0  0  0\\n   -0.7684    0.9047    1.5723 H   0  0  0  0  0  0  0  0  0  0  0  0\\n   -0.8665    1.2539   -0.1415 H   0  0  0  0  0  0  0  0  0  0  0  0\\n   -0.8952   -1.2260   -0.6393 H   0  0  0  0  0  0  0  0  0  0  0  0\\n   -0.8865   -1.5577    1.0787 H   0  0  0  0  0  0  0  0  0  0  0  0\\n    1.2714   -0.4690    1.3632 H   0  0  0  0  0  0  0  0  0  0  0  0\\n    1.3375   -1.8540    0.2925 H   0  0  0  0  0  0  0  0  0  0  0  0\\n    1.3734    1.0745   -0.6244 H   0  0  0  0  0  0  0  0  0  0  0  0\\n    3.6001   -1.0222   -0.5340 H   0  0  0  0  0  0  0  0  0  0  0  0\\n    3.7117    0.5510   -1.3183 H   0  0  0  0  0  0  0  0  0  0  0  0\\n    3.3381    0.0709    1.6765 H   0  0  0  0  0  0  0  0  0  0  0  0\\n    3.2414    1.6597    0.9102 H   0  0  0  0  0  0  0  0  0  0  0  0\\n    5.6580   -0.2258    0.7956 H   0  0  0  0  0  0  0  0  0  0  0  0\\n    5.5768    1.3704    0.0464 H   0  0  0  0  0  0  0  0  0  0  0  0\\n    5.3444    0.8128    3.0510 H   0  0  0  0  0  0  0  0  0  0  0  0\\n    6.7587    1.4761    2.2147 H   0  0  0  0  0  0  0  0  0  0  0  0\\n    5.2594    2.4171    2.2969 H   0  0  0  0  0  0  0  0  0  0  0  0\\n    1.1354   -1.5410   -2.1333 H   0  0  0  0  0  0  0  0  0  0  0  0\\n    2.2974   -0.3966   -2.7721 H   0  0  0  0  0  0  0  0  0  0  0  0\\n    0.1818   -0.0544   -3.8772 H   0  0  0  0  0  0  0  0  0  0  0  0\\n   -0.6603    0.2152   -2.3519 H   0  0  0  0  0  0  0  0  0  0  0  0\\n    0.5602    1.3745   -2.9048 H   0  0  0  0  0  0  0  0  0  0  0  0\\n  1  2  1  0\\n  2  3  1  0\\n  3  4  1  0\\n  4  5  1  0\\n  2  6  1  0\\n  6  7  1  0\\n  7  8  1  0\\n  8  9  1  0\\n  9 10  1  0\\n 10 11  1  0\\n 11 12  1  0\\n 12 13  1  0\\n  9 14  1  0\\n 14 15  1  0\\n  1 16  1  0\\n  1 17  1  0\\n  1 18  1  0\\n  2 19  1  0\\n  3 20  1  0\\n  3 21  1  0\\n  4 22  1  0\\n  4 23  1  0\\n  5 24  1  0\\n  5 25  1  0\\n  5 26  1  0\\n  6 27  1  0\\n  6 28  1  0\\n  7 29  1  0\\n  7 30  1  0\\n  8 31  1  0\\n  8 32  1  0\\n  9 33  1  0\\n 10 34  1  0\\n 10 35  1  0\\n 11 36  1  0\\n 11 37  1  0\\n 12 38  1  0\\n 12 39  1  0\\n 13 40  1  0\\n 13 41  1  0\\n 13 42  1  0\\n 14 43  1  0\\n 14 44  1  0\\n 15 45  1  0\\n 15 46  1  0\\n 15 47  1  0\\nM  END\\n\",\"mol\");\n\tviewer_16376483281689043.setStyle({\"stick\": {}});\n\tviewer_16376483281689043.zoomTo();\nviewer_16376483281689043.render();\n});\n</script>",
      "text/html": [
       "<div id=\"3dmolviewer_16376483281689043\"  style=\"position: relative; width: 300px; height: 300px\">\n",
       "        <p id=\"3dmolwarning_16376483281689043\" style=\"background-color:#ffcccc;color:black\">You appear to be running in JupyterLab (or JavaScript failed to load for some other reason).  You need to install the 3dmol extension: <br>\n",
       "        <tt>jupyter labextension install jupyterlab_3dmol</tt></p>\n",
       "        </div>\n",
       "<script>\n",
       "\n",
       "var loadScriptAsync = function(uri){\n",
       "  return new Promise((resolve, reject) => {\n",
       "    var tag = document.createElement('script');\n",
       "    tag.src = uri;\n",
       "    tag.async = true;\n",
       "    tag.onload = () => {\n",
       "      resolve();\n",
       "    };\n",
       "  var firstScriptTag = document.getElementsByTagName('script')[0];\n",
       "  firstScriptTag.parentNode.insertBefore(tag, firstScriptTag);\n",
       "});\n",
       "};\n",
       "\n",
       "if(typeof $3Dmolpromise === 'undefined') {\n",
       "$3Dmolpromise = null;\n",
       "  $3Dmolpromise = loadScriptAsync('https://3dmol.org/build/3Dmol.js');\n",
       "}\n",
       "\n",
       "var viewer_16376483281689043 = null;\n",
       "var warn = document.getElementById(\"3dmolwarning_16376483281689043\");\n",
       "if(warn) {\n",
       "    warn.parentNode.removeChild(warn);\n",
       "}\n",
       "$3Dmolpromise.then(function() {\n",
       "viewer_16376483281689043 = $3Dmol.createViewer($(\"#3dmolviewer_16376483281689043\"),{backgroundColor:\"white\"});\n",
       "viewer_16376483281689043.zoomTo();\n",
       "\tviewer_16376483281689043.addModel(\"\\n     RDKit          3D\\n\\n 47 46  0  0  0  0  0  0  0  0999 V2000\\n   -3.2211   -0.3309    1.8581 C   0  0  0  0  0  0  0  0  0  0  0  0\\n   -2.7185    0.5488    0.7131 C   0  0  0  0  0  0  0  0  0  0  0  0\\n   -3.3689    0.2042   -0.6433 C   0  0  0  0  0  0  0  0  0  0  0  0\\n   -4.8868    0.4184   -0.6976 C   0  0  0  0  0  0  0  0  0  0  0  0\\n   -5.6843   -0.8544   -0.4511 C   0  0  0  0  0  0  0  0  0  0  0  0\\n   -1.1745    0.5315    0.6230 C   0  0  0  0  0  0  0  0  0  0  0  0\\n   -0.5516   -0.8376    0.3231 C   0  0  0  0  0  0  0  0  0  0  0  0\\n    0.9818   -0.8177    0.3658 C   0  0  0  0  0  0  0  0  0  0  0  0\\n    1.6971    0.0304   -0.7132 C   0  0  0  0  0  0  0  0  0  0  0  0\\n    3.2323    0.0110   -0.4912 C   0  0  0  0  0  0  0  0  0  0  0  0\\n    3.6846    0.6607    0.8214 C   0  0  0  0  0  0  0  0  0  0  0  0\\n    5.2093    0.7702    0.8869 C   0  0  0  0  0  0  0  0  0  0  0  0\\n    5.6667    1.4067    2.1898 C   0  0  0  0  0  0  0  0  0  0  0  0\\n    1.3996   -0.4770   -2.1466 C   0  0  0  0  0  0  0  0  0  0  0  0\\n    0.3042    0.3115   -2.8525 C   0  0  0  0  0  0  0  0  0  0  0  0\\n   -4.2645   -0.1015    2.0957 H   0  0  0  0  0  0  0  0  0  0  0  0\\n   -2.6407   -0.1555    2.7704 H   0  0  0  0  0  0  0  0  0  0  0  0\\n   -3.1554   -1.3951    1.6110 H   0  0  0  0  0  0  0  0  0  0  0  0\\n   -2.9960    1.5834    0.9584 H   0  0  0  0  0  0  0  0  0  0  0  0\\n   -2.9205    0.8614   -1.3999 H   0  0  0  0  0  0  0  0  0  0  0  0\\n   -3.1256   -0.8216   -0.9426 H   0  0  0  0  0  0  0  0  0  0  0  0\\n   -5.1978    1.2001    0.0043 H   0  0  0  0  0  0  0  0  0  0  0  0\\n   -5.1476    0.7782   -1.7008 H   0  0  0  0  0  0  0  0  0  0  0  0\\n   -5.4295   -1.6229   -1.1882 H   0  0  0  0  0  0  0  0  0  0  0  0\\n   -5.5052   -1.2656    0.5448 H   0  0  0  0  0  0  0  0  0  0  0  0\\n   -6.7558   -0.6480   -0.5397 H   0  0  0  0  0  0  0  0  0  0  0  0\\n   -0.7684    0.9047    1.5723 H   0  0  0  0  0  0  0  0  0  0  0  0\\n   -0.8665    1.2539   -0.1415 H   0  0  0  0  0  0  0  0  0  0  0  0\\n   -0.8952   -1.2260   -0.6393 H   0  0  0  0  0  0  0  0  0  0  0  0\\n   -0.8865   -1.5577    1.0787 H   0  0  0  0  0  0  0  0  0  0  0  0\\n    1.2714   -0.4690    1.3632 H   0  0  0  0  0  0  0  0  0  0  0  0\\n    1.3375   -1.8540    0.2925 H   0  0  0  0  0  0  0  0  0  0  0  0\\n    1.3734    1.0745   -0.6244 H   0  0  0  0  0  0  0  0  0  0  0  0\\n    3.6001   -1.0222   -0.5340 H   0  0  0  0  0  0  0  0  0  0  0  0\\n    3.7117    0.5510   -1.3183 H   0  0  0  0  0  0  0  0  0  0  0  0\\n    3.3381    0.0709    1.6765 H   0  0  0  0  0  0  0  0  0  0  0  0\\n    3.2414    1.6597    0.9102 H   0  0  0  0  0  0  0  0  0  0  0  0\\n    5.6580   -0.2258    0.7956 H   0  0  0  0  0  0  0  0  0  0  0  0\\n    5.5768    1.3704    0.0464 H   0  0  0  0  0  0  0  0  0  0  0  0\\n    5.3444    0.8128    3.0510 H   0  0  0  0  0  0  0  0  0  0  0  0\\n    6.7587    1.4761    2.2147 H   0  0  0  0  0  0  0  0  0  0  0  0\\n    5.2594    2.4171    2.2969 H   0  0  0  0  0  0  0  0  0  0  0  0\\n    1.1354   -1.5410   -2.1333 H   0  0  0  0  0  0  0  0  0  0  0  0\\n    2.2974   -0.3966   -2.7721 H   0  0  0  0  0  0  0  0  0  0  0  0\\n    0.1818   -0.0544   -3.8772 H   0  0  0  0  0  0  0  0  0  0  0  0\\n   -0.6603    0.2152   -2.3519 H   0  0  0  0  0  0  0  0  0  0  0  0\\n    0.5602    1.3745   -2.9048 H   0  0  0  0  0  0  0  0  0  0  0  0\\n  1  2  1  0\\n  2  3  1  0\\n  3  4  1  0\\n  4  5  1  0\\n  2  6  1  0\\n  6  7  1  0\\n  7  8  1  0\\n  8  9  1  0\\n  9 10  1  0\\n 10 11  1  0\\n 11 12  1  0\\n 12 13  1  0\\n  9 14  1  0\\n 14 15  1  0\\n  1 16  1  0\\n  1 17  1  0\\n  1 18  1  0\\n  2 19  1  0\\n  3 20  1  0\\n  3 21  1  0\\n  4 22  1  0\\n  4 23  1  0\\n  5 24  1  0\\n  5 25  1  0\\n  5 26  1  0\\n  6 27  1  0\\n  6 28  1  0\\n  7 29  1  0\\n  7 30  1  0\\n  8 31  1  0\\n  8 32  1  0\\n  9 33  1  0\\n 10 34  1  0\\n 10 35  1  0\\n 11 36  1  0\\n 11 37  1  0\\n 12 38  1  0\\n 12 39  1  0\\n 13 40  1  0\\n 13 41  1  0\\n 13 42  1  0\\n 14 43  1  0\\n 14 44  1  0\\n 15 45  1  0\\n 15 46  1  0\\n 15 47  1  0\\nM  END\\n\",\"mol\");\n",
       "\tviewer_16376483281689043.setStyle({\"stick\": {}});\n",
       "\tviewer_16376483281689043.zoomTo();\n",
       "viewer_16376483281689043.render();\n",
       "});\n",
       "</script>"
      ]
     },
     "metadata": {},
     "output_type": "display_data"
    },
    {
     "data": {
      "text/plain": [
       "<py3Dmol.view at 0x2aed0953ff50>"
      ]
     },
     "execution_count": 11,
     "metadata": {},
     "output_type": "execute_result"
    }
   ],
   "source": [
    "from rdkit.Chem import AllChem\n",
    "AllChem.MMFFOptimizeMolecule(config.mol)\n",
    "drawConformer(config.mol)"
   ]
  },
  {
   "cell_type": "code",
   "execution_count": 12,
   "metadata": {},
   "outputs": [
    {
     "name": "stdout",
     "output_type": "stream",
     "text": [
      "(8.752164369867861, 7.284231414733183)\n"
     ]
    }
   ],
   "source": [
    "from conformer_rl.utils import calculate_normalizers\n",
    "print(calculate_normalizers(config.mol))"
   ]
  },
  {
   "cell_type": "code",
   "execution_count": null,
   "metadata": {},
   "outputs": [],
   "source": []
  }
 ],
 "metadata": {
  "interpreter": {
   "hash": "448f1cff2c1a6358527c186aa65f40ee81f4f02b82976e4971c95d3b3e5e62de"
  },
  "kernelspec": {
   "display_name": "Python 3.7.9 64-bit ('my-rdkit-env': conda)",
   "name": "python3"
  },
  "language_info": {
   "codemirror_mode": {
    "name": "ipython",
    "version": 3
   },
   "file_extension": ".py",
   "mimetype": "text/x-python",
   "name": "python",
   "nbconvert_exporter": "python",
   "pygments_lexer": "ipython3",
   "version": "3.7.9"
  },
  "orig_nbformat": 4
 },
 "nbformat": 4,
 "nbformat_minor": 2
}
