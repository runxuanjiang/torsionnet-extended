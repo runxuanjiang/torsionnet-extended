{
 "metadata": {
  "language_info": {
   "codemirror_mode": {
    "name": "ipython",
    "version": 3
   },
   "file_extension": ".py",
   "mimetype": "text/x-python",
   "name": "python",
   "nbconvert_exporter": "python",
   "pygments_lexer": "ipython3",
   "version": "3.7.9"
  },
  "orig_nbformat": 2,
  "kernelspec": {
   "name": "python361064bitmyrdkitenvconda52b95890e2aa4e1d93f31baf8ce57132",
   "display_name": "Python 3.6.10 64-bit ('my-rdkit-env': conda)",
   "language": "python"
  }
 },
 "nbformat": 4,
 "nbformat_minor": 2,
 "cells": [
  {
   "cell_type": "code",
   "execution_count": 1,
   "metadata": {},
   "outputs": [
    {
     "output_type": "stream",
     "name": "stdout",
     "text": [
      "\n     RDKit          2D\n\n  4  4  0  0  0  0  0  0  0  0999 V2000\n    1.0607    0.0000    0.0000 C   0  0  0  0  0  0  0  0  0  0  0  0\n   -0.0000   -1.0607    0.0000 C   0  0  0  0  0  0  0  0  0  0  0  0\n   -1.0607    0.0000    0.0000 C   0  0  0  0  0  0  0  0  0  0  0  0\n    0.0000    1.0607    0.0000 C   0  0  0  0  0  0  0  0  0  0  0  0\n  1  2  1  0\n  2  3  1  0\n  3  4  1  0\n  4  1  1  0\nM  END\n\n"
     ]
    }
   ],
   "source": [
    "from rdkit import Chem\n",
    "from rdkit.Chem import AllChem\n",
    "mol = Chem.MolFromSmiles('C1CCC1')\n",
    "print(Chem.MolToMolBlock(mol))"
   ]
  },
  {
   "cell_type": "code",
   "execution_count": 2,
   "metadata": {},
   "outputs": [
    {
     "output_type": "stream",
     "name": "stdout",
     "text": [
      "1\n\n     RDKit          3D\n\n  4  4  0  0  0  0  0  0  0  0999 V2000\n   -0.8735   -0.5532    0.2729 C   0  0  0  0  0  0  0  0  0  0  0  0\n   -0.5443    0.8756   -0.1886 C   0  0  0  0  0  0  0  0  0  0  0  0\n    0.9044    0.5339    0.1893 C   0  0  0  0  0  0  0  0  0  0  0  0\n    0.5315   -0.8952   -0.2266 C   0  0  0  0  0  0  0  0  0  0  0  0\n  1  2  1  0\n  2  3  1  0\n  3  4  1  0\n  4  1  1  0\nM  END\n\n"
     ]
    }
   ],
   "source": [
    "mol = Chem.AddHs(mol)\n",
    "AllChem.EmbedMolecule(mol, randomSeed=0)\n",
    "print(mol.GetNumConformers())\n",
    "mol = Chem.RemoveHs(mol)\n",
    "print(Chem.MolToMolBlock(mol))\n"
   ]
  },
  {
   "cell_type": "code",
   "execution_count": 21,
   "metadata": {},
   "outputs": [
    {
     "output_type": "stream",
     "name": "stdout",
     "text": [
      "4\n5\n"
     ]
    }
   ],
   "source": [
    "print(AllChem.EmbedMolecule(mol, clearConfs=False, randomSeed=12))\n",
    "print(mol.GetNumConformers())\n",
    "\n",
    "\n"
   ]
  },
  {
   "cell_type": "code",
   "execution_count": 23,
   "metadata": {},
   "outputs": [
    {
     "output_type": "stream",
     "name": "stdout",
     "text": [
      "\n     RDKit          3D\n\n  4  4  0  0  0  0  0  0  0  0999 V2000\n    0.8755    0.5815    0.0519 C   0  0  0  0  0  0  0  0  0  0  0  0\n    0.5917   -0.8920   -0.0817 C   0  0  0  0  0  0  0  0  0  0  0  0\n   -0.8716   -0.5851    0.0878 C   0  0  0  0  0  0  0  0  0  0  0  0\n   -0.5957    0.8955   -0.0579 C   0  0  0  0  0  0  0  0  0  0  0  0\n  1  2  1  0\n  2  3  1  0\n  3  4  1  0\n  4  1  1  0\nM  END\n\n\n     RDKit          3D\n\n  4  4  0  0  0  0  0  0  0  0999 V2000\n    0.8755    0.5815    0.0519 C   0  0  0  0  0  0  0  0  0  0  0  0\n    0.5917   -0.8920   -0.0817 C   0  0  0  0  0  0  0  0  0  0  0  0\n   -0.8716   -0.5851    0.0878 C   0  0  0  0  0  0  0  0  0  0  0  0\n   -0.5957    0.8955   -0.0579 C   0  0  0  0  0  0  0  0  0  0  0  0\n  1  2  1  0\n  2  3  1  0\n  3  4  1  0\n  4  1  1  0\nM  END\n\n\n     RDKit          3D\n\n  4  4  0  0  0  0  0  0  0  0999 V2000\n    0.8755    0.5815    0.0519 C   0  0  0  0  0  0  0  0  0  0  0  0\n    0.5917   -0.8920   -0.0817 C   0  0  0  0  0  0  0  0  0  0  0  0\n   -0.8716   -0.5851    0.0878 C   0  0  0  0  0  0  0  0  0  0  0  0\n   -0.5957    0.8955   -0.0579 C   0  0  0  0  0  0  0  0  0  0  0  0\n  1  2  1  0\n  2  3  1  0\n  3  4  1  0\n  4  1  1  0\nM  END\n\n\n     RDKit          3D\n\n  4  4  0  0  0  0  0  0  0  0999 V2000\n    0.8755    0.5815    0.0519 C   0  0  0  0  0  0  0  0  0  0  0  0\n    0.5917   -0.8920   -0.0817 C   0  0  0  0  0  0  0  0  0  0  0  0\n   -0.8716   -0.5851    0.0878 C   0  0  0  0  0  0  0  0  0  0  0  0\n   -0.5957    0.8955   -0.0579 C   0  0  0  0  0  0  0  0  0  0  0  0\n  1  2  1  0\n  2  3  1  0\n  3  4  1  0\n  4  1  1  0\nM  END\n\n\n     RDKit          3D\n\n  4  4  0  0  0  0  0  0  0  0999 V2000\n    0.8755    0.5815    0.0519 C   0  0  0  0  0  0  0  0  0  0  0  0\n    0.5917   -0.8920   -0.0817 C   0  0  0  0  0  0  0  0  0  0  0  0\n   -0.8716   -0.5851    0.0878 C   0  0  0  0  0  0  0  0  0  0  0  0\n   -0.5957    0.8955   -0.0579 C   0  0  0  0  0  0  0  0  0  0  0  0\n  1  2  1  0\n  2  3  1  0\n  3  4  1  0\n  4  1  1  0\nM  END\n\n\n     RDKit          3D\n\n  4  4  0  0  0  0  0  0  0  0999 V2000\n    0.8755    0.5815    0.0519 C   0  0  0  0  0  0  0  0  0  0  0  0\n    0.5917   -0.8920   -0.0817 C   0  0  0  0  0  0  0  0  0  0  0  0\n   -0.8716   -0.5851    0.0878 C   0  0  0  0  0  0  0  0  0  0  0  0\n   -0.5957    0.8955   -0.0579 C   0  0  0  0  0  0  0  0  0  0  0  0\n  1  2  1  0\n  2  3  1  0\n  3  4  1  0\n  4  1  1  0\nM  END\n\n"
     ]
    }
   ],
   "source": [
    "for i in range(-1, 5):\n",
    "    print(Chem.MolToMolBlock(mol, confId=i))"
   ]
  },
  {
   "cell_type": "code",
   "execution_count": null,
   "metadata": {},
   "outputs": [],
   "source": []
  }
 ]
}