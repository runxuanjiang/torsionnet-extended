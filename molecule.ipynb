{
 "metadata": {
  "language_info": {
   "codemirror_mode": {
    "name": "ipython",
    "version": 3
   },
   "file_extension": ".py",
   "mimetype": "text/x-python",
   "name": "python",
   "nbconvert_exporter": "python",
   "pygments_lexer": "ipython3",
   "version": "3.7.9"
  },
  "orig_nbformat": 2,
  "kernelspec": {
   "name": "python379jvsc74a57bd0448f1cff2c1a6358527c186aa65f40ee81f4f02b82976e4971c95d3b3e5e62de",
   "display_name": "Python 3.7.9 64-bit ('my-rdkit-env': conda)"
  },
  "metadata": {
   "interpreter": {
    "hash": "448f1cff2c1a6358527c186aa65f40ee81f4f02b82976e4971c95d3b3e5e62de"
   }
  }
 },
 "nbformat": 4,
 "nbformat_minor": 2,
 "cells": [
  {
   "cell_type": "code",
   "execution_count": 4,
   "metadata": {},
   "outputs": [
    {
     "output_type": "stream",
     "name": "stdout",
     "text": [
      "[5, 0, 7, 6]\n[1, 9, 14, 13]\n[38, 16, 21, 20]\n[24, 23, 28, 27]\n[11, 33, 35, 34]\n[39, 40, 42, 41]\n[25, 47, 49, 48]\n[53, 54, 56, 55]\n"
     ]
    }
   ],
   "source": [
    "import os\n",
    "from molecule import *\n",
    "torsions, _ = Chem.TorsionFingerprints.CalculateTorsionLists(xorgate.to_rdkit_mol())\n",
    "torsions = [list(atoms[0]) for atoms, ang in torsions]\n",
    "for torsion in torsions:\n",
    "    print(torsion)"
   ]
  },
  {
   "cell_type": "code",
   "execution_count": 5,
   "metadata": {},
   "outputs": [
    {
     "output_type": "stream",
     "name": "stdout",
     "text": [
      "[5, 0, 7, 6]\n[1, 9, 14, 13]\n[10, 0, 7, 6]\n[10, 9, 14, 13]\n[11, 3, 7, 6]\n[11, 12, 14, 13]\n[11, 3, 7, 6]\n[11, 12, 14, 13]\n\n0\n0\n1\n1\n2\n2\n3\n3\n\n0\n1\n0\n1\n0\n1\n0\n1\n"
     ]
    }
   ],
   "source": [
    "for torsion in torsions:\n",
    "    print(get_torsion_building_block_atoms(torsion))\n",
    "print()\n",
    "for torsion in torsions:\n",
    "    print(get_building_block_id_from_torsion(torsion))\n",
    "print()\n",
    "for torsion in torsions:\n",
    "    print(get_building_block_torsion_id(torsion))"
   ]
  },
  {
   "cell_type": "code",
   "execution_count": null,
   "metadata": {},
   "outputs": [],
   "source": []
  }
 ]
}